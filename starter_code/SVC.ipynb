{
 "cells": [
  {
   "cell_type": "code",
   "execution_count": 1,
   "metadata": {},
   "outputs": [
    {
     "name": "stdout",
     "output_type": "stream",
     "text": [
      "Requirement already up-to-date: sklearn in /Users/tajudeenadeyemi/opt/anaconda3/envs/PythonAdv/lib/python3.6/site-packages (0.0)\n",
      "Requirement already satisfied, skipping upgrade: scikit-learn in /Users/tajudeenadeyemi/opt/anaconda3/envs/PythonAdv/lib/python3.6/site-packages (from sklearn) (0.23.1)\n",
      "Requirement already satisfied, skipping upgrade: scipy>=0.19.1 in /Users/tajudeenadeyemi/opt/anaconda3/envs/PythonAdv/lib/python3.6/site-packages (from scikit-learn->sklearn) (1.5.0)\n",
      "Requirement already satisfied, skipping upgrade: joblib>=0.11 in /Users/tajudeenadeyemi/opt/anaconda3/envs/PythonAdv/lib/python3.6/site-packages (from scikit-learn->sklearn) (0.15.1)\n",
      "Requirement already satisfied, skipping upgrade: threadpoolctl>=2.0.0 in /Users/tajudeenadeyemi/opt/anaconda3/envs/PythonAdv/lib/python3.6/site-packages (from scikit-learn->sklearn) (2.1.0)\n",
      "Requirement already satisfied, skipping upgrade: numpy>=1.13.3 in /Users/tajudeenadeyemi/opt/anaconda3/envs/PythonAdv/lib/python3.6/site-packages (from scikit-learn->sklearn) (1.18.5)\n"
     ]
    }
   ],
   "source": [
    "# Update sklearn to prevent version mismatches\n",
    "!pip install sklearn --upgrade"
   ]
  },
  {
   "cell_type": "code",
   "execution_count": 2,
   "metadata": {},
   "outputs": [
    {
     "name": "stdout",
     "output_type": "stream",
     "text": [
      "Requirement already satisfied: joblib in /Users/tajudeenadeyemi/opt/anaconda3/envs/PythonAdv/lib/python3.6/site-packages (0.15.1)\r\n"
     ]
    }
   ],
   "source": [
    "# install joblib. This will be used to save your model. \n",
    "# Restart your kernel after installing \n",
    "!pip install joblib"
   ]
  },
  {
   "cell_type": "code",
   "execution_count": 3,
   "metadata": {},
   "outputs": [],
   "source": [
    "import pandas as pd"
   ]
  },
  {
   "cell_type": "markdown",
   "metadata": {},
   "source": [
    "# Read the CSV and Perform Basic Data Cleaning"
   ]
  },
  {
   "cell_type": "code",
   "execution_count": 4,
   "metadata": {},
   "outputs": [
    {
     "data": {
      "text/html": [
       "<div>\n",
       "<style scoped>\n",
       "    .dataframe tbody tr th:only-of-type {\n",
       "        vertical-align: middle;\n",
       "    }\n",
       "\n",
       "    .dataframe tbody tr th {\n",
       "        vertical-align: top;\n",
       "    }\n",
       "\n",
       "    .dataframe thead th {\n",
       "        text-align: right;\n",
       "    }\n",
       "</style>\n",
       "<table border=\"1\" class=\"dataframe\">\n",
       "  <thead>\n",
       "    <tr style=\"text-align: right;\">\n",
       "      <th></th>\n",
       "      <th>koi_disposition</th>\n",
       "      <th>koi_fpflag_nt</th>\n",
       "      <th>koi_fpflag_ss</th>\n",
       "      <th>koi_fpflag_co</th>\n",
       "      <th>koi_fpflag_ec</th>\n",
       "      <th>koi_period</th>\n",
       "      <th>koi_period_err1</th>\n",
       "      <th>koi_period_err2</th>\n",
       "      <th>koi_time0bk</th>\n",
       "      <th>koi_time0bk_err1</th>\n",
       "      <th>...</th>\n",
       "      <th>koi_steff_err2</th>\n",
       "      <th>koi_slogg</th>\n",
       "      <th>koi_slogg_err1</th>\n",
       "      <th>koi_slogg_err2</th>\n",
       "      <th>koi_srad</th>\n",
       "      <th>koi_srad_err1</th>\n",
       "      <th>koi_srad_err2</th>\n",
       "      <th>ra</th>\n",
       "      <th>dec</th>\n",
       "      <th>koi_kepmag</th>\n",
       "    </tr>\n",
       "  </thead>\n",
       "  <tbody>\n",
       "    <tr>\n",
       "      <th>0</th>\n",
       "      <td>CONFIRMED</td>\n",
       "      <td>0</td>\n",
       "      <td>0</td>\n",
       "      <td>0</td>\n",
       "      <td>0</td>\n",
       "      <td>54.418383</td>\n",
       "      <td>2.479000e-04</td>\n",
       "      <td>-2.479000e-04</td>\n",
       "      <td>162.513840</td>\n",
       "      <td>0.003520</td>\n",
       "      <td>...</td>\n",
       "      <td>-81</td>\n",
       "      <td>4.467</td>\n",
       "      <td>0.064</td>\n",
       "      <td>-0.096</td>\n",
       "      <td>0.927</td>\n",
       "      <td>0.105</td>\n",
       "      <td>-0.061</td>\n",
       "      <td>291.93423</td>\n",
       "      <td>48.141651</td>\n",
       "      <td>15.347</td>\n",
       "    </tr>\n",
       "    <tr>\n",
       "      <th>1</th>\n",
       "      <td>FALSE POSITIVE</td>\n",
       "      <td>0</td>\n",
       "      <td>1</td>\n",
       "      <td>0</td>\n",
       "      <td>0</td>\n",
       "      <td>19.899140</td>\n",
       "      <td>1.490000e-05</td>\n",
       "      <td>-1.490000e-05</td>\n",
       "      <td>175.850252</td>\n",
       "      <td>0.000581</td>\n",
       "      <td>...</td>\n",
       "      <td>-176</td>\n",
       "      <td>4.544</td>\n",
       "      <td>0.044</td>\n",
       "      <td>-0.176</td>\n",
       "      <td>0.868</td>\n",
       "      <td>0.233</td>\n",
       "      <td>-0.078</td>\n",
       "      <td>297.00482</td>\n",
       "      <td>48.134129</td>\n",
       "      <td>15.436</td>\n",
       "    </tr>\n",
       "    <tr>\n",
       "      <th>2</th>\n",
       "      <td>FALSE POSITIVE</td>\n",
       "      <td>0</td>\n",
       "      <td>1</td>\n",
       "      <td>0</td>\n",
       "      <td>0</td>\n",
       "      <td>1.736952</td>\n",
       "      <td>2.630000e-07</td>\n",
       "      <td>-2.630000e-07</td>\n",
       "      <td>170.307565</td>\n",
       "      <td>0.000115</td>\n",
       "      <td>...</td>\n",
       "      <td>-174</td>\n",
       "      <td>4.564</td>\n",
       "      <td>0.053</td>\n",
       "      <td>-0.168</td>\n",
       "      <td>0.791</td>\n",
       "      <td>0.201</td>\n",
       "      <td>-0.067</td>\n",
       "      <td>285.53461</td>\n",
       "      <td>48.285210</td>\n",
       "      <td>15.597</td>\n",
       "    </tr>\n",
       "    <tr>\n",
       "      <th>3</th>\n",
       "      <td>CONFIRMED</td>\n",
       "      <td>0</td>\n",
       "      <td>0</td>\n",
       "      <td>0</td>\n",
       "      <td>0</td>\n",
       "      <td>2.525592</td>\n",
       "      <td>3.760000e-06</td>\n",
       "      <td>-3.760000e-06</td>\n",
       "      <td>171.595550</td>\n",
       "      <td>0.001130</td>\n",
       "      <td>...</td>\n",
       "      <td>-211</td>\n",
       "      <td>4.438</td>\n",
       "      <td>0.070</td>\n",
       "      <td>-0.210</td>\n",
       "      <td>1.046</td>\n",
       "      <td>0.334</td>\n",
       "      <td>-0.133</td>\n",
       "      <td>288.75488</td>\n",
       "      <td>48.226200</td>\n",
       "      <td>15.509</td>\n",
       "    </tr>\n",
       "    <tr>\n",
       "      <th>4</th>\n",
       "      <td>CONFIRMED</td>\n",
       "      <td>0</td>\n",
       "      <td>0</td>\n",
       "      <td>0</td>\n",
       "      <td>0</td>\n",
       "      <td>4.134435</td>\n",
       "      <td>1.050000e-05</td>\n",
       "      <td>-1.050000e-05</td>\n",
       "      <td>172.979370</td>\n",
       "      <td>0.001900</td>\n",
       "      <td>...</td>\n",
       "      <td>-232</td>\n",
       "      <td>4.486</td>\n",
       "      <td>0.054</td>\n",
       "      <td>-0.229</td>\n",
       "      <td>0.972</td>\n",
       "      <td>0.315</td>\n",
       "      <td>-0.105</td>\n",
       "      <td>296.28613</td>\n",
       "      <td>48.224670</td>\n",
       "      <td>15.714</td>\n",
       "    </tr>\n",
       "  </tbody>\n",
       "</table>\n",
       "<p>5 rows × 41 columns</p>\n",
       "</div>"
      ],
      "text/plain": [
       "  koi_disposition  koi_fpflag_nt  koi_fpflag_ss  koi_fpflag_co  koi_fpflag_ec  \\\n",
       "0       CONFIRMED              0              0              0              0   \n",
       "1  FALSE POSITIVE              0              1              0              0   \n",
       "2  FALSE POSITIVE              0              1              0              0   \n",
       "3       CONFIRMED              0              0              0              0   \n",
       "4       CONFIRMED              0              0              0              0   \n",
       "\n",
       "   koi_period  koi_period_err1  koi_period_err2  koi_time0bk  \\\n",
       "0   54.418383     2.479000e-04    -2.479000e-04   162.513840   \n",
       "1   19.899140     1.490000e-05    -1.490000e-05   175.850252   \n",
       "2    1.736952     2.630000e-07    -2.630000e-07   170.307565   \n",
       "3    2.525592     3.760000e-06    -3.760000e-06   171.595550   \n",
       "4    4.134435     1.050000e-05    -1.050000e-05   172.979370   \n",
       "\n",
       "   koi_time0bk_err1  ...  koi_steff_err2  koi_slogg  koi_slogg_err1  \\\n",
       "0          0.003520  ...             -81      4.467           0.064   \n",
       "1          0.000581  ...            -176      4.544           0.044   \n",
       "2          0.000115  ...            -174      4.564           0.053   \n",
       "3          0.001130  ...            -211      4.438           0.070   \n",
       "4          0.001900  ...            -232      4.486           0.054   \n",
       "\n",
       "   koi_slogg_err2  koi_srad  koi_srad_err1  koi_srad_err2         ra  \\\n",
       "0          -0.096     0.927          0.105         -0.061  291.93423   \n",
       "1          -0.176     0.868          0.233         -0.078  297.00482   \n",
       "2          -0.168     0.791          0.201         -0.067  285.53461   \n",
       "3          -0.210     1.046          0.334         -0.133  288.75488   \n",
       "4          -0.229     0.972          0.315         -0.105  296.28613   \n",
       "\n",
       "         dec  koi_kepmag  \n",
       "0  48.141651      15.347  \n",
       "1  48.134129      15.436  \n",
       "2  48.285210      15.597  \n",
       "3  48.226200      15.509  \n",
       "4  48.224670      15.714  \n",
       "\n",
       "[5 rows x 41 columns]"
      ]
     },
     "execution_count": 4,
     "metadata": {},
     "output_type": "execute_result"
    }
   ],
   "source": [
    "df = pd.read_csv(\"exoplanet_data.csv\")\n",
    "# Drop the null columns where all values are null\n",
    "df = df.dropna(axis='columns', how='all')\n",
    "# Drop the null rows\n",
    "df = df.dropna()\n",
    "df.head()"
   ]
  },
  {
   "cell_type": "code",
   "execution_count": 5,
   "metadata": {},
   "outputs": [],
   "source": [
    "data = df.drop(\"koi_disposition\", axis=1)"
   ]
  },
  {
   "cell_type": "code",
   "execution_count": 6,
   "metadata": {},
   "outputs": [],
   "source": [
    "target = df[\"koi_disposition\"]"
   ]
  },
  {
   "cell_type": "code",
   "execution_count": 7,
   "metadata": {},
   "outputs": [
    {
     "data": {
      "text/html": [
       "<div>\n",
       "<style scoped>\n",
       "    .dataframe tbody tr th:only-of-type {\n",
       "        vertical-align: middle;\n",
       "    }\n",
       "\n",
       "    .dataframe tbody tr th {\n",
       "        vertical-align: top;\n",
       "    }\n",
       "\n",
       "    .dataframe thead th {\n",
       "        text-align: right;\n",
       "    }\n",
       "</style>\n",
       "<table border=\"1\" class=\"dataframe\">\n",
       "  <thead>\n",
       "    <tr style=\"text-align: right;\">\n",
       "      <th></th>\n",
       "      <th>koi_fpflag_nt</th>\n",
       "      <th>koi_fpflag_ss</th>\n",
       "      <th>koi_fpflag_co</th>\n",
       "      <th>koi_fpflag_ec</th>\n",
       "      <th>koi_period</th>\n",
       "      <th>koi_period_err1</th>\n",
       "      <th>koi_period_err2</th>\n",
       "      <th>koi_time0bk</th>\n",
       "      <th>koi_time0bk_err1</th>\n",
       "      <th>koi_time0bk_err2</th>\n",
       "      <th>...</th>\n",
       "      <th>koi_steff_err2</th>\n",
       "      <th>koi_slogg</th>\n",
       "      <th>koi_slogg_err1</th>\n",
       "      <th>koi_slogg_err2</th>\n",
       "      <th>koi_srad</th>\n",
       "      <th>koi_srad_err1</th>\n",
       "      <th>koi_srad_err2</th>\n",
       "      <th>ra</th>\n",
       "      <th>dec</th>\n",
       "      <th>koi_kepmag</th>\n",
       "    </tr>\n",
       "  </thead>\n",
       "  <tbody>\n",
       "    <tr>\n",
       "      <th>0</th>\n",
       "      <td>0</td>\n",
       "      <td>0</td>\n",
       "      <td>0</td>\n",
       "      <td>0</td>\n",
       "      <td>54.418383</td>\n",
       "      <td>2.479000e-04</td>\n",
       "      <td>-2.479000e-04</td>\n",
       "      <td>162.513840</td>\n",
       "      <td>0.003520</td>\n",
       "      <td>-0.003520</td>\n",
       "      <td>...</td>\n",
       "      <td>-81</td>\n",
       "      <td>4.467</td>\n",
       "      <td>0.064</td>\n",
       "      <td>-0.096</td>\n",
       "      <td>0.927</td>\n",
       "      <td>0.105</td>\n",
       "      <td>-0.061</td>\n",
       "      <td>291.93423</td>\n",
       "      <td>48.141651</td>\n",
       "      <td>15.347</td>\n",
       "    </tr>\n",
       "    <tr>\n",
       "      <th>1</th>\n",
       "      <td>0</td>\n",
       "      <td>1</td>\n",
       "      <td>0</td>\n",
       "      <td>0</td>\n",
       "      <td>19.899140</td>\n",
       "      <td>1.490000e-05</td>\n",
       "      <td>-1.490000e-05</td>\n",
       "      <td>175.850252</td>\n",
       "      <td>0.000581</td>\n",
       "      <td>-0.000581</td>\n",
       "      <td>...</td>\n",
       "      <td>-176</td>\n",
       "      <td>4.544</td>\n",
       "      <td>0.044</td>\n",
       "      <td>-0.176</td>\n",
       "      <td>0.868</td>\n",
       "      <td>0.233</td>\n",
       "      <td>-0.078</td>\n",
       "      <td>297.00482</td>\n",
       "      <td>48.134129</td>\n",
       "      <td>15.436</td>\n",
       "    </tr>\n",
       "    <tr>\n",
       "      <th>2</th>\n",
       "      <td>0</td>\n",
       "      <td>1</td>\n",
       "      <td>0</td>\n",
       "      <td>0</td>\n",
       "      <td>1.736952</td>\n",
       "      <td>2.630000e-07</td>\n",
       "      <td>-2.630000e-07</td>\n",
       "      <td>170.307565</td>\n",
       "      <td>0.000115</td>\n",
       "      <td>-0.000115</td>\n",
       "      <td>...</td>\n",
       "      <td>-174</td>\n",
       "      <td>4.564</td>\n",
       "      <td>0.053</td>\n",
       "      <td>-0.168</td>\n",
       "      <td>0.791</td>\n",
       "      <td>0.201</td>\n",
       "      <td>-0.067</td>\n",
       "      <td>285.53461</td>\n",
       "      <td>48.285210</td>\n",
       "      <td>15.597</td>\n",
       "    </tr>\n",
       "    <tr>\n",
       "      <th>3</th>\n",
       "      <td>0</td>\n",
       "      <td>0</td>\n",
       "      <td>0</td>\n",
       "      <td>0</td>\n",
       "      <td>2.525592</td>\n",
       "      <td>3.760000e-06</td>\n",
       "      <td>-3.760000e-06</td>\n",
       "      <td>171.595550</td>\n",
       "      <td>0.001130</td>\n",
       "      <td>-0.001130</td>\n",
       "      <td>...</td>\n",
       "      <td>-211</td>\n",
       "      <td>4.438</td>\n",
       "      <td>0.070</td>\n",
       "      <td>-0.210</td>\n",
       "      <td>1.046</td>\n",
       "      <td>0.334</td>\n",
       "      <td>-0.133</td>\n",
       "      <td>288.75488</td>\n",
       "      <td>48.226200</td>\n",
       "      <td>15.509</td>\n",
       "    </tr>\n",
       "    <tr>\n",
       "      <th>4</th>\n",
       "      <td>0</td>\n",
       "      <td>0</td>\n",
       "      <td>0</td>\n",
       "      <td>0</td>\n",
       "      <td>4.134435</td>\n",
       "      <td>1.050000e-05</td>\n",
       "      <td>-1.050000e-05</td>\n",
       "      <td>172.979370</td>\n",
       "      <td>0.001900</td>\n",
       "      <td>-0.001900</td>\n",
       "      <td>...</td>\n",
       "      <td>-232</td>\n",
       "      <td>4.486</td>\n",
       "      <td>0.054</td>\n",
       "      <td>-0.229</td>\n",
       "      <td>0.972</td>\n",
       "      <td>0.315</td>\n",
       "      <td>-0.105</td>\n",
       "      <td>296.28613</td>\n",
       "      <td>48.224670</td>\n",
       "      <td>15.714</td>\n",
       "    </tr>\n",
       "  </tbody>\n",
       "</table>\n",
       "<p>5 rows × 40 columns</p>\n",
       "</div>"
      ],
      "text/plain": [
       "   koi_fpflag_nt  koi_fpflag_ss  koi_fpflag_co  koi_fpflag_ec  koi_period  \\\n",
       "0              0              0              0              0   54.418383   \n",
       "1              0              1              0              0   19.899140   \n",
       "2              0              1              0              0    1.736952   \n",
       "3              0              0              0              0    2.525592   \n",
       "4              0              0              0              0    4.134435   \n",
       "\n",
       "   koi_period_err1  koi_period_err2  koi_time0bk  koi_time0bk_err1  \\\n",
       "0     2.479000e-04    -2.479000e-04   162.513840          0.003520   \n",
       "1     1.490000e-05    -1.490000e-05   175.850252          0.000581   \n",
       "2     2.630000e-07    -2.630000e-07   170.307565          0.000115   \n",
       "3     3.760000e-06    -3.760000e-06   171.595550          0.001130   \n",
       "4     1.050000e-05    -1.050000e-05   172.979370          0.001900   \n",
       "\n",
       "   koi_time0bk_err2  ...  koi_steff_err2  koi_slogg  koi_slogg_err1  \\\n",
       "0         -0.003520  ...             -81      4.467           0.064   \n",
       "1         -0.000581  ...            -176      4.544           0.044   \n",
       "2         -0.000115  ...            -174      4.564           0.053   \n",
       "3         -0.001130  ...            -211      4.438           0.070   \n",
       "4         -0.001900  ...            -232      4.486           0.054   \n",
       "\n",
       "   koi_slogg_err2  koi_srad  koi_srad_err1  koi_srad_err2         ra  \\\n",
       "0          -0.096     0.927          0.105         -0.061  291.93423   \n",
       "1          -0.176     0.868          0.233         -0.078  297.00482   \n",
       "2          -0.168     0.791          0.201         -0.067  285.53461   \n",
       "3          -0.210     1.046          0.334         -0.133  288.75488   \n",
       "4          -0.229     0.972          0.315         -0.105  296.28613   \n",
       "\n",
       "         dec  koi_kepmag  \n",
       "0  48.141651      15.347  \n",
       "1  48.134129      15.436  \n",
       "2  48.285210      15.597  \n",
       "3  48.226200      15.509  \n",
       "4  48.224670      15.714  \n",
       "\n",
       "[5 rows x 40 columns]"
      ]
     },
     "execution_count": 7,
     "metadata": {},
     "output_type": "execute_result"
    }
   ],
   "source": [
    "feature_names = data.columns\n",
    "data.head()"
   ]
  },
  {
   "cell_type": "code",
   "execution_count": 8,
   "metadata": {},
   "outputs": [],
   "source": [
    "from sklearn.ensemble import RandomForestClassifier"
   ]
  },
  {
   "cell_type": "code",
   "execution_count": 9,
   "metadata": {},
   "outputs": [],
   "source": [
    "from sklearn.model_selection import train_test_split\n",
    "X_train, X_test, y_train, y_test = train_test_split(data, target, random_state=42) "
   ]
  },
  {
   "cell_type": "code",
   "execution_count": 10,
   "metadata": {},
   "outputs": [
    {
     "data": {
      "text/plain": [
       "0.9016018306636155"
      ]
     },
     "execution_count": 10,
     "metadata": {},
     "output_type": "execute_result"
    }
   ],
   "source": [
    "from sklearn.ensemble import RandomForestClassifier\n",
    "rf = RandomForestClassifier(n_estimators=200)\n",
    "rf = rf.fit(X_train, y_train)\n",
    "rf.score(X_test, y_test)"
   ]
  },
  {
   "cell_type": "code",
   "execution_count": 11,
   "metadata": {},
   "outputs": [
    {
     "data": {
      "text/plain": [
       "[(0.11537781300100403, 'koi_fpflag_co'),\n",
       " (0.10127080220910076, 'koi_fpflag_nt'),\n",
       " (0.06924233939944957, 'koi_fpflag_ss'),\n",
       " (0.059517163655030104, 'koi_model_snr'),\n",
       " (0.04802568660605484, 'koi_prad'),\n",
       " (0.03437160224287087, 'koi_prad_err2'),\n",
       " (0.03246326785298839, 'koi_steff_err1'),\n",
       " (0.03097310622006771, 'koi_duration_err2'),\n",
       " (0.030824359113361215, 'koi_fpflag_ec'),\n",
       " (0.029695634476218005, 'koi_prad_err1'),\n",
       " (0.029485817307150428, 'koi_duration_err1'),\n",
       " (0.02654077534067637, 'koi_time0bk_err2'),\n",
       " (0.025123448656333203, 'koi_time0bk_err1'),\n",
       " (0.02221506018411909, 'koi_steff_err2'),\n",
       " (0.021975219283156287, 'koi_period'),\n",
       " (0.02121684665450558, 'koi_duration'),\n",
       " (0.020028741157670334, 'koi_depth'),\n",
       " (0.01838200727639364, 'koi_period_err2'),\n",
       " (0.018346986265932244, 'koi_insol_err1'),\n",
       " (0.017941884821060555, 'koi_impact'),\n",
       " (0.01638968146974352, 'koi_insol'),\n",
       " (0.016142993132728923, 'koi_period_err1'),\n",
       " (0.01465220295722348, 'koi_teq'),\n",
       " (0.014157316383473536, 'koi_time0bk'),\n",
       " (0.013702592521451024, 'koi_depth_err2'),\n",
       " (0.013248008100147719, 'koi_insol_err2'),\n",
       " (0.013133086402622425, 'koi_depth_err1'),\n",
       " (0.012591763813663328, 'koi_srad_err1'),\n",
       " (0.011687407921293606, 'ra'),\n",
       " (0.011469658799082587, 'dec'),\n",
       " (0.011077629710156417, 'koi_impact_err2'),\n",
       " (0.010944867068681585, 'koi_slogg_err2'),\n",
       " (0.010762759508810333, 'koi_impact_err1'),\n",
       " (0.010264603904113592, 'koi_kepmag'),\n",
       " (0.009361738490994517, 'koi_steff'),\n",
       " (0.008953320517143268, 'koi_slogg'),\n",
       " (0.008747851953582454, 'koi_slogg_err1'),\n",
       " (0.008711886942145685, 'koi_srad'),\n",
       " (0.008017162367344528, 'koi_srad_err2'),\n",
       " (0.0029649063124542884, 'koi_tce_plnt_num')]"
      ]
     },
     "execution_count": 11,
     "metadata": {},
     "output_type": "execute_result"
    }
   ],
   "source": [
    "sorted(zip(rf.feature_importances_, feature_names), reverse=True)"
   ]
  },
  {
   "cell_type": "code",
   "execution_count": null,
   "metadata": {},
   "outputs": [],
   "source": []
  },
  {
   "cell_type": "markdown",
   "metadata": {},
   "source": [
    "# Select your features (columns)"
   ]
  },
  {
   "cell_type": "code",
   "execution_count": 12,
   "metadata": {},
   "outputs": [],
   "source": [
    "# Set features. This will also be used as your x values.\n",
    "X = df[['koi_fpflag_co', 'koi_fpflag_nt', 'koi_fpflag_ss', 'koi_model_snr', 'koi_prad', 'koi_depth', 'koi_duration', 'koi_impact'\n",
    "       ,'koi_teq','koi_insol', 'koi_time0bk','koi_period']]\n",
    "y=df[\"koi_disposition\"]\n"
   ]
  },
  {
   "cell_type": "markdown",
   "metadata": {},
   "source": [
    "# Create a Train Test Split\n",
    "\n",
    "Use `koi_disposition` for the y values"
   ]
  },
  {
   "cell_type": "code",
   "execution_count": 13,
   "metadata": {},
   "outputs": [],
   "source": [
    "from sklearn.model_selection import train_test_split\n",
    "X_train, X_test, y_train, y_test = train_test_split(X, y, random_state=42) "
   ]
  },
  {
   "cell_type": "code",
   "execution_count": 14,
   "metadata": {},
   "outputs": [
    {
     "data": {
      "text/html": [
       "<div>\n",
       "<style scoped>\n",
       "    .dataframe tbody tr th:only-of-type {\n",
       "        vertical-align: middle;\n",
       "    }\n",
       "\n",
       "    .dataframe tbody tr th {\n",
       "        vertical-align: top;\n",
       "    }\n",
       "\n",
       "    .dataframe thead th {\n",
       "        text-align: right;\n",
       "    }\n",
       "</style>\n",
       "<table border=\"1\" class=\"dataframe\">\n",
       "  <thead>\n",
       "    <tr style=\"text-align: right;\">\n",
       "      <th></th>\n",
       "      <th>koi_fpflag_co</th>\n",
       "      <th>koi_fpflag_nt</th>\n",
       "      <th>koi_fpflag_ss</th>\n",
       "      <th>koi_model_snr</th>\n",
       "      <th>koi_prad</th>\n",
       "      <th>koi_depth</th>\n",
       "      <th>koi_duration</th>\n",
       "      <th>koi_impact</th>\n",
       "      <th>koi_teq</th>\n",
       "      <th>koi_insol</th>\n",
       "      <th>koi_time0bk</th>\n",
       "      <th>koi_period</th>\n",
       "    </tr>\n",
       "  </thead>\n",
       "  <tbody>\n",
       "    <tr>\n",
       "      <th>6122</th>\n",
       "      <td>0</td>\n",
       "      <td>0</td>\n",
       "      <td>0</td>\n",
       "      <td>10.8</td>\n",
       "      <td>1.24</td>\n",
       "      <td>123.1</td>\n",
       "      <td>3.61600</td>\n",
       "      <td>0.150</td>\n",
       "      <td>1017</td>\n",
       "      <td>253.30</td>\n",
       "      <td>133.077240</td>\n",
       "      <td>6.768901</td>\n",
       "    </tr>\n",
       "    <tr>\n",
       "      <th>6370</th>\n",
       "      <td>0</td>\n",
       "      <td>0</td>\n",
       "      <td>1</td>\n",
       "      <td>13.8</td>\n",
       "      <td>0.86</td>\n",
       "      <td>114.6</td>\n",
       "      <td>2.30900</td>\n",
       "      <td>0.291</td>\n",
       "      <td>1867</td>\n",
       "      <td>2891.64</td>\n",
       "      <td>132.020050</td>\n",
       "      <td>0.733726</td>\n",
       "    </tr>\n",
       "    <tr>\n",
       "      <th>2879</th>\n",
       "      <td>0</td>\n",
       "      <td>1</td>\n",
       "      <td>0</td>\n",
       "      <td>254.3</td>\n",
       "      <td>3.21</td>\n",
       "      <td>641.1</td>\n",
       "      <td>79.89690</td>\n",
       "      <td>0.970</td>\n",
       "      <td>989</td>\n",
       "      <td>226.81</td>\n",
       "      <td>134.460380</td>\n",
       "      <td>7.652707</td>\n",
       "    </tr>\n",
       "    <tr>\n",
       "      <th>107</th>\n",
       "      <td>0</td>\n",
       "      <td>0</td>\n",
       "      <td>0</td>\n",
       "      <td>38.4</td>\n",
       "      <td>2.25</td>\n",
       "      <td>875.4</td>\n",
       "      <td>2.63120</td>\n",
       "      <td>0.300</td>\n",
       "      <td>696</td>\n",
       "      <td>55.37</td>\n",
       "      <td>174.662240</td>\n",
       "      <td>7.953547</td>\n",
       "    </tr>\n",
       "    <tr>\n",
       "      <th>29</th>\n",
       "      <td>0</td>\n",
       "      <td>0</td>\n",
       "      <td>0</td>\n",
       "      <td>696.5</td>\n",
       "      <td>12.21</td>\n",
       "      <td>9802.0</td>\n",
       "      <td>2.22739</td>\n",
       "      <td>0.831</td>\n",
       "      <td>1103</td>\n",
       "      <td>349.40</td>\n",
       "      <td>172.258529</td>\n",
       "      <td>4.959319</td>\n",
       "    </tr>\n",
       "  </tbody>\n",
       "</table>\n",
       "</div>"
      ],
      "text/plain": [
       "      koi_fpflag_co  koi_fpflag_nt  koi_fpflag_ss  koi_model_snr  koi_prad  \\\n",
       "6122              0              0              0           10.8      1.24   \n",
       "6370              0              0              1           13.8      0.86   \n",
       "2879              0              1              0          254.3      3.21   \n",
       "107               0              0              0           38.4      2.25   \n",
       "29                0              0              0          696.5     12.21   \n",
       "\n",
       "      koi_depth  koi_duration  koi_impact  koi_teq  koi_insol  koi_time0bk  \\\n",
       "6122      123.1       3.61600       0.150     1017     253.30   133.077240   \n",
       "6370      114.6       2.30900       0.291     1867    2891.64   132.020050   \n",
       "2879      641.1      79.89690       0.970      989     226.81   134.460380   \n",
       "107       875.4       2.63120       0.300      696      55.37   174.662240   \n",
       "29       9802.0       2.22739       0.831     1103     349.40   172.258529   \n",
       "\n",
       "      koi_period  \n",
       "6122    6.768901  \n",
       "6370    0.733726  \n",
       "2879    7.652707  \n",
       "107     7.953547  \n",
       "29      4.959319  "
      ]
     },
     "execution_count": 14,
     "metadata": {},
     "output_type": "execute_result"
    }
   ],
   "source": [
    "X_train.head()"
   ]
  },
  {
   "cell_type": "markdown",
   "metadata": {},
   "source": [
    "# Pre-processing\n",
    "\n",
    "Scale the data using the MinMaxScaler and perform some feature selection"
   ]
  },
  {
   "cell_type": "code",
   "execution_count": 15,
   "metadata": {},
   "outputs": [],
   "source": [
    "# Scale your data\n",
    "from sklearn.preprocessing import StandardScaler\n",
    "X_scaler = StandardScaler().fit(X_train)\n"
   ]
  },
  {
   "cell_type": "code",
   "execution_count": 16,
   "metadata": {},
   "outputs": [],
   "source": [
    "X_train_scaled = X_scaler.transform(X_train)\n",
    "X_test_scaled = X_scaler.transform(X_test)"
   ]
  },
  {
   "cell_type": "markdown",
   "metadata": {},
   "source": [
    "# Train the Model\n",
    "\n"
   ]
  },
  {
   "cell_type": "code",
   "execution_count": 17,
   "metadata": {},
   "outputs": [
    {
     "data": {
      "text/plain": [
       "SVC(kernel='linear')"
      ]
     },
     "execution_count": 17,
     "metadata": {},
     "output_type": "execute_result"
    }
   ],
   "source": [
    "from sklearn.svm import SVC \n",
    "model2 = SVC(kernel='linear')\n",
    "\n",
    "\n",
    "model2.fit(X_train_scaled, y_train)\n"
   ]
  },
  {
   "cell_type": "code",
   "execution_count": 18,
   "metadata": {},
   "outputs": [
    {
     "name": "stdout",
     "output_type": "stream",
     "text": [
      "Training Data Score: 0.7875262254434484\n",
      "Testing Data Score: 0.7877574370709383\n"
     ]
    }
   ],
   "source": [
    "print(f\"Training Data Score: {model2.score(X_train_scaled, y_train)}\")\n",
    "print(f\"Testing Data Score: {model2.score(X_test_scaled, y_test)}\")"
   ]
  },
  {
   "cell_type": "markdown",
   "metadata": {},
   "source": [
    "# Hyperparameter Tuning\n",
    "\n",
    "Use `GridSearchCV` to tune the model's parameters"
   ]
  },
  {
   "cell_type": "code",
   "execution_count": 19,
   "metadata": {},
   "outputs": [],
   "source": [
    "# Create the GridSearchCV model\n",
    "from sklearn.model_selection import GridSearchCV\n",
    "model=SVC()\n",
    "param_grid = {'kernel': ['linear', 'rbf', 'poly', 'sigmoid'],\n",
    "              'C': [1, 5, 10],\n",
    "              'gamma': [0.0001, 0.001, 0.01]}\n",
    "grid = GridSearchCV(model, param_grid, verbose=3)"
   ]
  },
  {
   "cell_type": "code",
   "execution_count": 20,
   "metadata": {},
   "outputs": [
    {
     "name": "stdout",
     "output_type": "stream",
     "text": [
      "Fitting 5 folds for each of 36 candidates, totalling 180 fits\n",
      "[CV] C=1, gamma=0.0001, kernel=linear ................................\n"
     ]
    },
    {
     "name": "stderr",
     "output_type": "stream",
     "text": [
      "[Parallel(n_jobs=1)]: Using backend SequentialBackend with 1 concurrent workers.\n"
     ]
    },
    {
     "name": "stdout",
     "output_type": "stream",
     "text": [
      "[CV] .... C=1, gamma=0.0001, kernel=linear, score=0.802, total=   0.5s\n",
      "[CV] C=1, gamma=0.0001, kernel=linear ................................\n"
     ]
    },
    {
     "name": "stderr",
     "output_type": "stream",
     "text": [
      "[Parallel(n_jobs=1)]: Done   1 out of   1 | elapsed:    0.5s remaining:    0.0s\n"
     ]
    },
    {
     "name": "stdout",
     "output_type": "stream",
     "text": [
      "[CV] .... C=1, gamma=0.0001, kernel=linear, score=0.771, total=   0.3s\n",
      "[CV] C=1, gamma=0.0001, kernel=linear ................................\n"
     ]
    },
    {
     "name": "stderr",
     "output_type": "stream",
     "text": [
      "[Parallel(n_jobs=1)]: Done   2 out of   2 | elapsed:    0.9s remaining:    0.0s\n"
     ]
    },
    {
     "name": "stdout",
     "output_type": "stream",
     "text": [
      "[CV] .... C=1, gamma=0.0001, kernel=linear, score=0.775, total=   0.4s\n",
      "[CV] C=1, gamma=0.0001, kernel=linear ................................\n",
      "[CV] .... C=1, gamma=0.0001, kernel=linear, score=0.781, total=   0.3s\n",
      "[CV] C=1, gamma=0.0001, kernel=linear ................................\n",
      "[CV] .... C=1, gamma=0.0001, kernel=linear, score=0.792, total=   0.3s\n",
      "[CV] C=1, gamma=0.0001, kernel=rbf ...................................\n",
      "[CV] ....... C=1, gamma=0.0001, kernel=rbf, score=0.505, total=   0.7s\n",
      "[CV] C=1, gamma=0.0001, kernel=rbf ...................................\n",
      "[CV] ....... C=1, gamma=0.0001, kernel=rbf, score=0.506, total=   0.9s\n",
      "[CV] C=1, gamma=0.0001, kernel=rbf ...................................\n",
      "[CV] ....... C=1, gamma=0.0001, kernel=rbf, score=0.505, total=   0.8s\n",
      "[CV] C=1, gamma=0.0001, kernel=rbf ...................................\n",
      "[CV] ....... C=1, gamma=0.0001, kernel=rbf, score=0.506, total=   0.8s\n",
      "[CV] C=1, gamma=0.0001, kernel=rbf ...................................\n",
      "[CV] ....... C=1, gamma=0.0001, kernel=rbf, score=0.506, total=   0.8s\n",
      "[CV] C=1, gamma=0.0001, kernel=poly ..................................\n",
      "[CV] ...... C=1, gamma=0.0001, kernel=poly, score=0.505, total=   0.6s\n",
      "[CV] C=1, gamma=0.0001, kernel=poly ..................................\n",
      "[CV] ...... C=1, gamma=0.0001, kernel=poly, score=0.506, total=   0.5s\n",
      "[CV] C=1, gamma=0.0001, kernel=poly ..................................\n",
      "[CV] ...... C=1, gamma=0.0001, kernel=poly, score=0.505, total=   0.5s\n",
      "[CV] C=1, gamma=0.0001, kernel=poly ..................................\n",
      "[CV] ...... C=1, gamma=0.0001, kernel=poly, score=0.506, total=   0.5s\n",
      "[CV] C=1, gamma=0.0001, kernel=poly ..................................\n",
      "[CV] ...... C=1, gamma=0.0001, kernel=poly, score=0.506, total=   0.5s\n",
      "[CV] C=1, gamma=0.0001, kernel=sigmoid ...............................\n",
      "[CV] ... C=1, gamma=0.0001, kernel=sigmoid, score=0.505, total=   0.6s\n",
      "[CV] C=1, gamma=0.0001, kernel=sigmoid ...............................\n",
      "[CV] ... C=1, gamma=0.0001, kernel=sigmoid, score=0.506, total=   0.6s\n",
      "[CV] C=1, gamma=0.0001, kernel=sigmoid ...............................\n",
      "[CV] ... C=1, gamma=0.0001, kernel=sigmoid, score=0.505, total=   0.7s\n",
      "[CV] C=1, gamma=0.0001, kernel=sigmoid ...............................\n",
      "[CV] ... C=1, gamma=0.0001, kernel=sigmoid, score=0.506, total=   0.9s\n",
      "[CV] C=1, gamma=0.0001, kernel=sigmoid ...............................\n",
      "[CV] ... C=1, gamma=0.0001, kernel=sigmoid, score=0.506, total=   0.6s\n",
      "[CV] C=1, gamma=0.001, kernel=linear .................................\n",
      "[CV] ..... C=1, gamma=0.001, kernel=linear, score=0.802, total=   0.5s\n",
      "[CV] C=1, gamma=0.001, kernel=linear .................................\n",
      "[CV] ..... C=1, gamma=0.001, kernel=linear, score=0.771, total=   0.3s\n",
      "[CV] C=1, gamma=0.001, kernel=linear .................................\n",
      "[CV] ..... C=1, gamma=0.001, kernel=linear, score=0.775, total=   0.3s\n",
      "[CV] C=1, gamma=0.001, kernel=linear .................................\n",
      "[CV] ..... C=1, gamma=0.001, kernel=linear, score=0.781, total=   0.3s\n",
      "[CV] C=1, gamma=0.001, kernel=linear .................................\n",
      "[CV] ..... C=1, gamma=0.001, kernel=linear, score=0.792, total=   0.3s\n",
      "[CV] C=1, gamma=0.001, kernel=rbf ....................................\n",
      "[CV] ........ C=1, gamma=0.001, kernel=rbf, score=0.767, total=   0.5s\n",
      "[CV] C=1, gamma=0.001, kernel=rbf ....................................\n",
      "[CV] ........ C=1, gamma=0.001, kernel=rbf, score=0.750, total=   0.5s\n",
      "[CV] C=1, gamma=0.001, kernel=rbf ....................................\n",
      "[CV] ........ C=1, gamma=0.001, kernel=rbf, score=0.764, total=   0.5s\n",
      "[CV] C=1, gamma=0.001, kernel=rbf ....................................\n",
      "[CV] ........ C=1, gamma=0.001, kernel=rbf, score=0.753, total=   0.5s\n",
      "[CV] C=1, gamma=0.001, kernel=rbf ....................................\n",
      "[CV] ........ C=1, gamma=0.001, kernel=rbf, score=0.763, total=   0.5s\n",
      "[CV] C=1, gamma=0.001, kernel=poly ...................................\n",
      "[CV] ....... C=1, gamma=0.001, kernel=poly, score=0.505, total=   0.5s\n",
      "[CV] C=1, gamma=0.001, kernel=poly ...................................\n",
      "[CV] ....... C=1, gamma=0.001, kernel=poly, score=0.506, total=   0.5s\n",
      "[CV] C=1, gamma=0.001, kernel=poly ...................................\n",
      "[CV] ....... C=1, gamma=0.001, kernel=poly, score=0.505, total=   0.6s\n",
      "[CV] C=1, gamma=0.001, kernel=poly ...................................\n",
      "[CV] ....... C=1, gamma=0.001, kernel=poly, score=0.506, total=   0.5s\n",
      "[CV] C=1, gamma=0.001, kernel=poly ...................................\n",
      "[CV] ....... C=1, gamma=0.001, kernel=poly, score=0.506, total=   0.5s\n",
      "[CV] C=1, gamma=0.001, kernel=sigmoid ................................\n",
      "[CV] .... C=1, gamma=0.001, kernel=sigmoid, score=0.765, total=   0.5s\n",
      "[CV] C=1, gamma=0.001, kernel=sigmoid ................................\n",
      "[CV] .... C=1, gamma=0.001, kernel=sigmoid, score=0.746, total=   0.5s\n",
      "[CV] C=1, gamma=0.001, kernel=sigmoid ................................\n",
      "[CV] .... C=1, gamma=0.001, kernel=sigmoid, score=0.758, total=   0.5s\n",
      "[CV] C=1, gamma=0.001, kernel=sigmoid ................................\n",
      "[CV] .... C=1, gamma=0.001, kernel=sigmoid, score=0.754, total=   0.5s\n",
      "[CV] C=1, gamma=0.001, kernel=sigmoid ................................\n",
      "[CV] .... C=1, gamma=0.001, kernel=sigmoid, score=0.760, total=   0.5s\n",
      "[CV] C=1, gamma=0.01, kernel=linear ..................................\n",
      "[CV] ...... C=1, gamma=0.01, kernel=linear, score=0.802, total=   0.5s\n",
      "[CV] C=1, gamma=0.01, kernel=linear ..................................\n",
      "[CV] ...... C=1, gamma=0.01, kernel=linear, score=0.771, total=   0.3s\n",
      "[CV] C=1, gamma=0.01, kernel=linear ..................................\n",
      "[CV] ...... C=1, gamma=0.01, kernel=linear, score=0.775, total=   0.3s\n",
      "[CV] C=1, gamma=0.01, kernel=linear ..................................\n",
      "[CV] ...... C=1, gamma=0.01, kernel=linear, score=0.781, total=   0.3s\n",
      "[CV] C=1, gamma=0.01, kernel=linear ..................................\n",
      "[CV] ...... C=1, gamma=0.01, kernel=linear, score=0.792, total=   0.3s\n",
      "[CV] C=1, gamma=0.01, kernel=rbf .....................................\n",
      "[CV] ......... C=1, gamma=0.01, kernel=rbf, score=0.785, total=   0.3s\n",
      "[CV] C=1, gamma=0.01, kernel=rbf .....................................\n",
      "[CV] ......... C=1, gamma=0.01, kernel=rbf, score=0.756, total=   0.3s\n",
      "[CV] C=1, gamma=0.01, kernel=rbf .....................................\n",
      "[CV] ......... C=1, gamma=0.01, kernel=rbf, score=0.771, total=   0.3s\n",
      "[CV] C=1, gamma=0.01, kernel=rbf .....................................\n",
      "[CV] ......... C=1, gamma=0.01, kernel=rbf, score=0.762, total=   0.3s\n",
      "[CV] C=1, gamma=0.01, kernel=rbf .....................................\n",
      "[CV] ......... C=1, gamma=0.01, kernel=rbf, score=0.781, total=   0.3s\n",
      "[CV] C=1, gamma=0.01, kernel=poly ....................................\n",
      "[CV] ........ C=1, gamma=0.01, kernel=poly, score=0.506, total=   0.6s\n",
      "[CV] C=1, gamma=0.01, kernel=poly ....................................\n",
      "[CV] ........ C=1, gamma=0.01, kernel=poly, score=0.507, total=   0.6s\n",
      "[CV] C=1, gamma=0.01, kernel=poly ....................................\n",
      "[CV] ........ C=1, gamma=0.01, kernel=poly, score=0.507, total=   0.6s\n",
      "[CV] C=1, gamma=0.01, kernel=poly ....................................\n",
      "[CV] ........ C=1, gamma=0.01, kernel=poly, score=0.506, total=   0.5s\n",
      "[CV] C=1, gamma=0.01, kernel=poly ....................................\n",
      "[CV] ........ C=1, gamma=0.01, kernel=poly, score=0.507, total=   0.6s\n",
      "[CV] C=1, gamma=0.01, kernel=sigmoid .................................\n",
      "[CV] ..... C=1, gamma=0.01, kernel=sigmoid, score=0.777, total=   0.3s\n",
      "[CV] C=1, gamma=0.01, kernel=sigmoid .................................\n",
      "[CV] ..... C=1, gamma=0.01, kernel=sigmoid, score=0.754, total=   0.3s\n",
      "[CV] C=1, gamma=0.01, kernel=sigmoid .................................\n",
      "[CV] ..... C=1, gamma=0.01, kernel=sigmoid, score=0.762, total=   0.3s\n",
      "[CV] C=1, gamma=0.01, kernel=sigmoid .................................\n",
      "[CV] ..... C=1, gamma=0.01, kernel=sigmoid, score=0.757, total=   0.2s\n",
      "[CV] C=1, gamma=0.01, kernel=sigmoid .................................\n",
      "[CV] ..... C=1, gamma=0.01, kernel=sigmoid, score=0.771, total=   0.3s\n",
      "[CV] C=5, gamma=0.0001, kernel=linear ................................\n"
     ]
    },
    {
     "name": "stdout",
     "output_type": "stream",
     "text": [
      "[CV] .... C=5, gamma=0.0001, kernel=linear, score=0.806, total=   0.9s\n",
      "[CV] C=5, gamma=0.0001, kernel=linear ................................\n",
      "[CV] .... C=5, gamma=0.0001, kernel=linear, score=0.777, total=   0.7s\n",
      "[CV] C=5, gamma=0.0001, kernel=linear ................................\n",
      "[CV] .... C=5, gamma=0.0001, kernel=linear, score=0.780, total=   0.6s\n",
      "[CV] C=5, gamma=0.0001, kernel=linear ................................\n",
      "[CV] .... C=5, gamma=0.0001, kernel=linear, score=0.783, total=   0.5s\n",
      "[CV] C=5, gamma=0.0001, kernel=linear ................................\n",
      "[CV] .... C=5, gamma=0.0001, kernel=linear, score=0.798, total=   0.6s\n",
      "[CV] C=5, gamma=0.0001, kernel=rbf ...................................\n",
      "[CV] ....... C=5, gamma=0.0001, kernel=rbf, score=0.765, total=   0.6s\n",
      "[CV] C=5, gamma=0.0001, kernel=rbf ...................................\n",
      "[CV] ....... C=5, gamma=0.0001, kernel=rbf, score=0.745, total=   0.6s\n",
      "[CV] C=5, gamma=0.0001, kernel=rbf ...................................\n",
      "[CV] ....... C=5, gamma=0.0001, kernel=rbf, score=0.758, total=   0.6s\n",
      "[CV] C=5, gamma=0.0001, kernel=rbf ...................................\n",
      "[CV] ....... C=5, gamma=0.0001, kernel=rbf, score=0.754, total=   0.6s\n",
      "[CV] C=5, gamma=0.0001, kernel=rbf ...................................\n",
      "[CV] ....... C=5, gamma=0.0001, kernel=rbf, score=0.760, total=   0.6s\n",
      "[CV] C=5, gamma=0.0001, kernel=poly ..................................\n",
      "[CV] ...... C=5, gamma=0.0001, kernel=poly, score=0.505, total=   0.5s\n",
      "[CV] C=5, gamma=0.0001, kernel=poly ..................................\n",
      "[CV] ...... C=5, gamma=0.0001, kernel=poly, score=0.506, total=   0.5s\n",
      "[CV] C=5, gamma=0.0001, kernel=poly ..................................\n",
      "[CV] ...... C=5, gamma=0.0001, kernel=poly, score=0.505, total=   0.5s\n",
      "[CV] C=5, gamma=0.0001, kernel=poly ..................................\n",
      "[CV] ...... C=5, gamma=0.0001, kernel=poly, score=0.506, total=   0.5s\n",
      "[CV] C=5, gamma=0.0001, kernel=poly ..................................\n",
      "[CV] ...... C=5, gamma=0.0001, kernel=poly, score=0.506, total=   0.5s\n",
      "[CV] C=5, gamma=0.0001, kernel=sigmoid ...............................\n",
      "[CV] ... C=5, gamma=0.0001, kernel=sigmoid, score=0.760, total=   0.6s\n",
      "[CV] C=5, gamma=0.0001, kernel=sigmoid ...............................\n",
      "[CV] ... C=5, gamma=0.0001, kernel=sigmoid, score=0.745, total=   0.6s\n",
      "[CV] C=5, gamma=0.0001, kernel=sigmoid ...............................\n",
      "[CV] ... C=5, gamma=0.0001, kernel=sigmoid, score=0.745, total=   0.6s\n",
      "[CV] C=5, gamma=0.0001, kernel=sigmoid ...............................\n",
      "[CV] ... C=5, gamma=0.0001, kernel=sigmoid, score=0.747, total=   0.6s\n",
      "[CV] C=5, gamma=0.0001, kernel=sigmoid ...............................\n",
      "[CV] ... C=5, gamma=0.0001, kernel=sigmoid, score=0.753, total=   0.6s\n",
      "[CV] C=5, gamma=0.001, kernel=linear .................................\n",
      "[CV] ..... C=5, gamma=0.001, kernel=linear, score=0.806, total=   0.8s\n",
      "[CV] C=5, gamma=0.001, kernel=linear .................................\n",
      "[CV] ..... C=5, gamma=0.001, kernel=linear, score=0.777, total=   0.6s\n",
      "[CV] C=5, gamma=0.001, kernel=linear .................................\n",
      "[CV] ..... C=5, gamma=0.001, kernel=linear, score=0.780, total=   0.6s\n",
      "[CV] C=5, gamma=0.001, kernel=linear .................................\n",
      "[CV] ..... C=5, gamma=0.001, kernel=linear, score=0.783, total=   0.5s\n",
      "[CV] C=5, gamma=0.001, kernel=linear .................................\n",
      "[CV] ..... C=5, gamma=0.001, kernel=linear, score=0.798, total=   0.7s\n",
      "[CV] C=5, gamma=0.001, kernel=rbf ....................................\n",
      "[CV] ........ C=5, gamma=0.001, kernel=rbf, score=0.780, total=   0.4s\n",
      "[CV] C=5, gamma=0.001, kernel=rbf ....................................\n",
      "[CV] ........ C=5, gamma=0.001, kernel=rbf, score=0.755, total=   0.3s\n",
      "[CV] C=5, gamma=0.001, kernel=rbf ....................................\n",
      "[CV] ........ C=5, gamma=0.001, kernel=rbf, score=0.766, total=   0.3s\n",
      "[CV] C=5, gamma=0.001, kernel=rbf ....................................\n",
      "[CV] ........ C=5, gamma=0.001, kernel=rbf, score=0.759, total=   0.3s\n",
      "[CV] C=5, gamma=0.001, kernel=rbf ....................................\n",
      "[CV] ........ C=5, gamma=0.001, kernel=rbf, score=0.775, total=   0.4s\n",
      "[CV] C=5, gamma=0.001, kernel=poly ...................................\n",
      "[CV] ....... C=5, gamma=0.001, kernel=poly, score=0.505, total=   0.6s\n",
      "[CV] C=5, gamma=0.001, kernel=poly ...................................\n",
      "[CV] ....... C=5, gamma=0.001, kernel=poly, score=0.506, total=   0.6s\n",
      "[CV] C=5, gamma=0.001, kernel=poly ...................................\n",
      "[CV] ....... C=5, gamma=0.001, kernel=poly, score=0.505, total=   0.5s\n",
      "[CV] C=5, gamma=0.001, kernel=poly ...................................\n",
      "[CV] ....... C=5, gamma=0.001, kernel=poly, score=0.506, total=   0.5s\n",
      "[CV] C=5, gamma=0.001, kernel=poly ...................................\n",
      "[CV] ....... C=5, gamma=0.001, kernel=poly, score=0.506, total=   0.5s\n",
      "[CV] C=5, gamma=0.001, kernel=sigmoid ................................\n",
      "[CV] .... C=5, gamma=0.001, kernel=sigmoid, score=0.774, total=   0.4s\n",
      "[CV] C=5, gamma=0.001, kernel=sigmoid ................................\n",
      "[CV] .... C=5, gamma=0.001, kernel=sigmoid, score=0.750, total=   0.3s\n",
      "[CV] C=5, gamma=0.001, kernel=sigmoid ................................\n",
      "[CV] .... C=5, gamma=0.001, kernel=sigmoid, score=0.765, total=   0.3s\n",
      "[CV] C=5, gamma=0.001, kernel=sigmoid ................................\n",
      "[CV] .... C=5, gamma=0.001, kernel=sigmoid, score=0.754, total=   0.3s\n",
      "[CV] C=5, gamma=0.001, kernel=sigmoid ................................\n",
      "[CV] .... C=5, gamma=0.001, kernel=sigmoid, score=0.771, total=   0.3s\n",
      "[CV] C=5, gamma=0.01, kernel=linear ..................................\n",
      "[CV] ...... C=5, gamma=0.01, kernel=linear, score=0.806, total=   0.7s\n",
      "[CV] C=5, gamma=0.01, kernel=linear ..................................\n",
      "[CV] ...... C=5, gamma=0.01, kernel=linear, score=0.777, total=   0.7s\n",
      "[CV] C=5, gamma=0.01, kernel=linear ..................................\n",
      "[CV] ...... C=5, gamma=0.01, kernel=linear, score=0.780, total=   0.6s\n",
      "[CV] C=5, gamma=0.01, kernel=linear ..................................\n",
      "[CV] ...... C=5, gamma=0.01, kernel=linear, score=0.783, total=   0.5s\n",
      "[CV] C=5, gamma=0.01, kernel=linear ..................................\n",
      "[CV] ...... C=5, gamma=0.01, kernel=linear, score=0.798, total=   0.6s\n",
      "[CV] C=5, gamma=0.01, kernel=rbf .....................................\n",
      "[CV] ......... C=5, gamma=0.01, kernel=rbf, score=0.798, total=   0.3s\n",
      "[CV] C=5, gamma=0.01, kernel=rbf .....................................\n",
      "[CV] ......... C=5, gamma=0.01, kernel=rbf, score=0.765, total=   0.3s\n",
      "[CV] C=5, gamma=0.01, kernel=rbf .....................................\n",
      "[CV] ......... C=5, gamma=0.01, kernel=rbf, score=0.784, total=   0.3s\n",
      "[CV] C=5, gamma=0.01, kernel=rbf .....................................\n",
      "[CV] ......... C=5, gamma=0.01, kernel=rbf, score=0.775, total=   0.3s\n",
      "[CV] C=5, gamma=0.01, kernel=rbf .....................................\n",
      "[CV] ......... C=5, gamma=0.01, kernel=rbf, score=0.785, total=   0.3s\n",
      "[CV] C=5, gamma=0.01, kernel=poly ....................................\n",
      "[CV] ........ C=5, gamma=0.01, kernel=poly, score=0.519, total=   0.6s\n",
      "[CV] C=5, gamma=0.01, kernel=poly ....................................\n",
      "[CV] ........ C=5, gamma=0.01, kernel=poly, score=0.516, total=   0.5s\n",
      "[CV] C=5, gamma=0.01, kernel=poly ....................................\n",
      "[CV] ........ C=5, gamma=0.01, kernel=poly, score=0.514, total=   0.8s\n",
      "[CV] C=5, gamma=0.01, kernel=poly ....................................\n",
      "[CV] ........ C=5, gamma=0.01, kernel=poly, score=0.516, total=   0.5s\n",
      "[CV] C=5, gamma=0.01, kernel=poly ....................................\n",
      "[CV] ........ C=5, gamma=0.01, kernel=poly, score=0.519, total=   0.5s\n",
      "[CV] C=5, gamma=0.01, kernel=sigmoid .................................\n",
      "[CV] ..... C=5, gamma=0.01, kernel=sigmoid, score=0.793, total=   0.2s\n",
      "[CV] C=5, gamma=0.01, kernel=sigmoid .................................\n",
      "[CV] ..... C=5, gamma=0.01, kernel=sigmoid, score=0.765, total=   0.2s\n",
      "[CV] C=5, gamma=0.01, kernel=sigmoid .................................\n",
      "[CV] ..... C=5, gamma=0.01, kernel=sigmoid, score=0.771, total=   0.2s\n",
      "[CV] C=5, gamma=0.01, kernel=sigmoid .................................\n",
      "[CV] ..... C=5, gamma=0.01, kernel=sigmoid, score=0.765, total=   0.2s\n",
      "[CV] C=5, gamma=0.01, kernel=sigmoid .................................\n"
     ]
    },
    {
     "name": "stdout",
     "output_type": "stream",
     "text": [
      "[CV] ..... C=5, gamma=0.01, kernel=sigmoid, score=0.781, total=   0.2s\n",
      "[CV] C=10, gamma=0.0001, kernel=linear ...............................\n",
      "[CV] ... C=10, gamma=0.0001, kernel=linear, score=0.809, total=   0.9s\n",
      "[CV] C=10, gamma=0.0001, kernel=linear ...............................\n",
      "[CV] ... C=10, gamma=0.0001, kernel=linear, score=0.780, total=   0.8s\n",
      "[CV] C=10, gamma=0.0001, kernel=linear ...............................\n",
      "[CV] ... C=10, gamma=0.0001, kernel=linear, score=0.784, total=   0.9s\n",
      "[CV] C=10, gamma=0.0001, kernel=linear ...............................\n",
      "[CV] ... C=10, gamma=0.0001, kernel=linear, score=0.783, total=   0.7s\n",
      "[CV] C=10, gamma=0.0001, kernel=linear ...............................\n",
      "[CV] ... C=10, gamma=0.0001, kernel=linear, score=0.802, total=   0.8s\n",
      "[CV] C=10, gamma=0.0001, kernel=rbf ..................................\n",
      "[CV] ...... C=10, gamma=0.0001, kernel=rbf, score=0.767, total=   0.5s\n",
      "[CV] C=10, gamma=0.0001, kernel=rbf ..................................\n",
      "[CV] ...... C=10, gamma=0.0001, kernel=rbf, score=0.751, total=   0.5s\n",
      "[CV] C=10, gamma=0.0001, kernel=rbf ..................................\n",
      "[CV] ...... C=10, gamma=0.0001, kernel=rbf, score=0.764, total=   0.5s\n",
      "[CV] C=10, gamma=0.0001, kernel=rbf ..................................\n",
      "[CV] ...... C=10, gamma=0.0001, kernel=rbf, score=0.753, total=   0.5s\n",
      "[CV] C=10, gamma=0.0001, kernel=rbf ..................................\n",
      "[CV] ...... C=10, gamma=0.0001, kernel=rbf, score=0.763, total=   0.5s\n",
      "[CV] C=10, gamma=0.0001, kernel=poly .................................\n",
      "[CV] ..... C=10, gamma=0.0001, kernel=poly, score=0.505, total=   0.6s\n",
      "[CV] C=10, gamma=0.0001, kernel=poly .................................\n",
      "[CV] ..... C=10, gamma=0.0001, kernel=poly, score=0.506, total=   0.6s\n",
      "[CV] C=10, gamma=0.0001, kernel=poly .................................\n",
      "[CV] ..... C=10, gamma=0.0001, kernel=poly, score=0.505, total=   0.7s\n",
      "[CV] C=10, gamma=0.0001, kernel=poly .................................\n",
      "[CV] ..... C=10, gamma=0.0001, kernel=poly, score=0.506, total=   0.6s\n",
      "[CV] C=10, gamma=0.0001, kernel=poly .................................\n",
      "[CV] ..... C=10, gamma=0.0001, kernel=poly, score=0.506, total=   0.6s\n",
      "[CV] C=10, gamma=0.0001, kernel=sigmoid ..............................\n",
      "[CV] .. C=10, gamma=0.0001, kernel=sigmoid, score=0.765, total=   0.5s\n",
      "[CV] C=10, gamma=0.0001, kernel=sigmoid ..............................\n",
      "[CV] .. C=10, gamma=0.0001, kernel=sigmoid, score=0.746, total=   0.5s\n",
      "[CV] C=10, gamma=0.0001, kernel=sigmoid ..............................\n",
      "[CV] .. C=10, gamma=0.0001, kernel=sigmoid, score=0.758, total=   0.5s\n",
      "[CV] C=10, gamma=0.0001, kernel=sigmoid ..............................\n",
      "[CV] .. C=10, gamma=0.0001, kernel=sigmoid, score=0.754, total=   0.5s\n",
      "[CV] C=10, gamma=0.0001, kernel=sigmoid ..............................\n",
      "[CV] .. C=10, gamma=0.0001, kernel=sigmoid, score=0.760, total=   0.5s\n",
      "[CV] C=10, gamma=0.001, kernel=linear ................................\n",
      "[CV] .... C=10, gamma=0.001, kernel=linear, score=0.809, total=   0.9s\n",
      "[CV] C=10, gamma=0.001, kernel=linear ................................\n",
      "[CV] .... C=10, gamma=0.001, kernel=linear, score=0.780, total=   0.8s\n",
      "[CV] C=10, gamma=0.001, kernel=linear ................................\n",
      "[CV] .... C=10, gamma=0.001, kernel=linear, score=0.784, total=   0.9s\n",
      "[CV] C=10, gamma=0.001, kernel=linear ................................\n",
      "[CV] .... C=10, gamma=0.001, kernel=linear, score=0.783, total=   0.8s\n",
      "[CV] C=10, gamma=0.001, kernel=linear ................................\n",
      "[CV] .... C=10, gamma=0.001, kernel=linear, score=0.802, total=   1.0s\n",
      "[CV] C=10, gamma=0.001, kernel=rbf ...................................\n",
      "[CV] ....... C=10, gamma=0.001, kernel=rbf, score=0.783, total=   0.4s\n",
      "[CV] C=10, gamma=0.001, kernel=rbf ...................................\n",
      "[CV] ....... C=10, gamma=0.001, kernel=rbf, score=0.756, total=   0.3s\n",
      "[CV] C=10, gamma=0.001, kernel=rbf ...................................\n",
      "[CV] ....... C=10, gamma=0.001, kernel=rbf, score=0.772, total=   0.4s\n",
      "[CV] C=10, gamma=0.001, kernel=rbf ...................................\n",
      "[CV] ....... C=10, gamma=0.001, kernel=rbf, score=0.764, total=   0.4s\n",
      "[CV] C=10, gamma=0.001, kernel=rbf ...................................\n",
      "[CV] ....... C=10, gamma=0.001, kernel=rbf, score=0.782, total=   0.3s\n",
      "[CV] C=10, gamma=0.001, kernel=poly ..................................\n",
      "[CV] ...... C=10, gamma=0.001, kernel=poly, score=0.505, total=   0.5s\n",
      "[CV] C=10, gamma=0.001, kernel=poly ..................................\n",
      "[CV] ...... C=10, gamma=0.001, kernel=poly, score=0.506, total=   0.6s\n",
      "[CV] C=10, gamma=0.001, kernel=poly ..................................\n",
      "[CV] ...... C=10, gamma=0.001, kernel=poly, score=0.505, total=   0.5s\n",
      "[CV] C=10, gamma=0.001, kernel=poly ..................................\n",
      "[CV] ...... C=10, gamma=0.001, kernel=poly, score=0.506, total=   0.5s\n",
      "[CV] C=10, gamma=0.001, kernel=poly ..................................\n",
      "[CV] ...... C=10, gamma=0.001, kernel=poly, score=0.506, total=   0.6s\n",
      "[CV] C=10, gamma=0.001, kernel=sigmoid ...............................\n",
      "[CV] ... C=10, gamma=0.001, kernel=sigmoid, score=0.780, total=   0.3s\n",
      "[CV] C=10, gamma=0.001, kernel=sigmoid ...............................\n",
      "[CV] ... C=10, gamma=0.001, kernel=sigmoid, score=0.756, total=   0.3s\n",
      "[CV] C=10, gamma=0.001, kernel=sigmoid ...............................\n",
      "[CV] ... C=10, gamma=0.001, kernel=sigmoid, score=0.766, total=   0.2s\n",
      "[CV] C=10, gamma=0.001, kernel=sigmoid ...............................\n",
      "[CV] ... C=10, gamma=0.001, kernel=sigmoid, score=0.759, total=   0.3s\n",
      "[CV] C=10, gamma=0.001, kernel=sigmoid ...............................\n",
      "[CV] ... C=10, gamma=0.001, kernel=sigmoid, score=0.775, total=   0.3s\n",
      "[CV] C=10, gamma=0.01, kernel=linear .................................\n",
      "[CV] ..... C=10, gamma=0.01, kernel=linear, score=0.809, total=   0.9s\n",
      "[CV] C=10, gamma=0.01, kernel=linear .................................\n",
      "[CV] ..... C=10, gamma=0.01, kernel=linear, score=0.780, total=   0.8s\n",
      "[CV] C=10, gamma=0.01, kernel=linear .................................\n",
      "[CV] ..... C=10, gamma=0.01, kernel=linear, score=0.784, total=   0.9s\n",
      "[CV] C=10, gamma=0.01, kernel=linear .................................\n",
      "[CV] ..... C=10, gamma=0.01, kernel=linear, score=0.783, total=   0.9s\n",
      "[CV] C=10, gamma=0.01, kernel=linear .................................\n",
      "[CV] ..... C=10, gamma=0.01, kernel=linear, score=0.802, total=   0.9s\n",
      "[CV] C=10, gamma=0.01, kernel=rbf ....................................\n",
      "[CV] ........ C=10, gamma=0.01, kernel=rbf, score=0.804, total=   0.3s\n",
      "[CV] C=10, gamma=0.01, kernel=rbf ....................................\n",
      "[CV] ........ C=10, gamma=0.01, kernel=rbf, score=0.772, total=   0.3s\n",
      "[CV] C=10, gamma=0.01, kernel=rbf ....................................\n",
      "[CV] ........ C=10, gamma=0.01, kernel=rbf, score=0.786, total=   0.4s\n",
      "[CV] C=10, gamma=0.01, kernel=rbf ....................................\n",
      "[CV] ........ C=10, gamma=0.01, kernel=rbf, score=0.782, total=   0.3s\n",
      "[CV] C=10, gamma=0.01, kernel=rbf ....................................\n",
      "[CV] ........ C=10, gamma=0.01, kernel=rbf, score=0.789, total=   0.3s\n",
      "[CV] C=10, gamma=0.01, kernel=poly ...................................\n",
      "[CV] ....... C=10, gamma=0.01, kernel=poly, score=0.528, total=   0.6s\n",
      "[CV] C=10, gamma=0.01, kernel=poly ...................................\n",
      "[CV] ....... C=10, gamma=0.01, kernel=poly, score=0.515, total=   0.5s\n",
      "[CV] C=10, gamma=0.01, kernel=poly ...................................\n",
      "[CV] ....... C=10, gamma=0.01, kernel=poly, score=0.517, total=   0.5s\n",
      "[CV] C=10, gamma=0.01, kernel=poly ...................................\n",
      "[CV] ....... C=10, gamma=0.01, kernel=poly, score=0.526, total=   0.5s\n",
      "[CV] C=10, gamma=0.01, kernel=poly ...................................\n",
      "[CV] ....... C=10, gamma=0.01, kernel=poly, score=0.529, total=   0.5s\n",
      "[CV] C=10, gamma=0.01, kernel=sigmoid ................................\n",
      "[CV] .... C=10, gamma=0.01, kernel=sigmoid, score=0.795, total=   0.2s\n",
      "[CV] C=10, gamma=0.01, kernel=sigmoid ................................\n",
      "[CV] .... C=10, gamma=0.01, kernel=sigmoid, score=0.766, total=   0.2s\n",
      "[CV] C=10, gamma=0.01, kernel=sigmoid ................................\n"
     ]
    },
    {
     "name": "stdout",
     "output_type": "stream",
     "text": [
      "[CV] .... C=10, gamma=0.01, kernel=sigmoid, score=0.769, total=   0.2s\n",
      "[CV] C=10, gamma=0.01, kernel=sigmoid ................................\n",
      "[CV] .... C=10, gamma=0.01, kernel=sigmoid, score=0.768, total=   0.2s\n",
      "[CV] C=10, gamma=0.01, kernel=sigmoid ................................\n",
      "[CV] .... C=10, gamma=0.01, kernel=sigmoid, score=0.787, total=   0.2s\n"
     ]
    },
    {
     "name": "stderr",
     "output_type": "stream",
     "text": [
      "[Parallel(n_jobs=1)]: Done 180 out of 180 | elapsed:  1.5min finished\n"
     ]
    },
    {
     "data": {
      "text/plain": [
       "GridSearchCV(estimator=SVC(),\n",
       "             param_grid={'C': [1, 5, 10], 'gamma': [0.0001, 0.001, 0.01],\n",
       "                         'kernel': ['linear', 'rbf', 'poly', 'sigmoid']},\n",
       "             verbose=3)"
      ]
     },
     "execution_count": 20,
     "metadata": {},
     "output_type": "execute_result"
    }
   ],
   "source": [
    "# Train the model with GridSearch\n",
    "grid.fit(X_train_scaled, y_train)\n"
   ]
  },
  {
   "cell_type": "code",
   "execution_count": 21,
   "metadata": {},
   "outputs": [
    {
     "name": "stdout",
     "output_type": "stream",
     "text": [
      "{'C': 10, 'gamma': 0.0001, 'kernel': 'linear'}\n",
      "0.7915319206223302\n"
     ]
    }
   ],
   "source": [
    "print(grid.best_params_)\n",
    "print(grid.best_score_)"
   ]
  },
  {
   "cell_type": "code",
   "execution_count": 22,
   "metadata": {},
   "outputs": [
    {
     "data": {
      "text/plain": [
       "FALSE POSITIVE    3504\n",
       "CONFIRMED         1800\n",
       "CANDIDATE         1687\n",
       "Name: koi_disposition, dtype: int64"
      ]
     },
     "execution_count": 22,
     "metadata": {},
     "output_type": "execute_result"
    }
   ],
   "source": [
    "target.value_counts()"
   ]
  },
  {
   "cell_type": "code",
   "execution_count": 23,
   "metadata": {},
   "outputs": [],
   "source": [
    "predictions=grid.predict(X_test)"
   ]
  },
  {
   "cell_type": "code",
   "execution_count": 24,
   "metadata": {},
   "outputs": [
    {
     "data": {
      "text/plain": [
       "GridSearchCV(estimator=SVC(),\n",
       "             param_grid={'C': [1, 5, 10], 'gamma': [0.0001, 0.001, 0.01],\n",
       "                         'kernel': ['linear', 'rbf', 'poly', 'sigmoid']},\n",
       "             verbose=3)"
      ]
     },
     "execution_count": 24,
     "metadata": {},
     "output_type": "execute_result"
    }
   ],
   "source": [
    "grid"
   ]
  },
  {
   "cell_type": "code",
   "execution_count": 25,
   "metadata": {},
   "outputs": [
    {
     "name": "stdout",
     "output_type": "stream",
     "text": [
      "                precision    recall  f1-score   support\n",
      "\n",
      "     CANDIDATE       0.13      0.04      0.06       411\n",
      "     CONFIRMED       0.00      0.00      0.00       484\n",
      "FALSE POSITIVE       0.46      0.88      0.61       853\n",
      "\n",
      "      accuracy                           0.44      1748\n",
      "     macro avg       0.20      0.31      0.22      1748\n",
      "  weighted avg       0.26      0.44      0.31      1748\n",
      "\n",
      "[[ 15   0 396]\n",
      " [  1   0 483]\n",
      " [ 99   0 754]]\n",
      "0.4399313501144165\n"
     ]
    },
    {
     "name": "stderr",
     "output_type": "stream",
     "text": [
      "/Users/tajudeenadeyemi/opt/anaconda3/envs/PythonAdv/lib/python3.6/site-packages/sklearn/metrics/_classification.py:1221: UndefinedMetricWarning: Precision and F-score are ill-defined and being set to 0.0 in labels with no predicted samples. Use `zero_division` parameter to control this behavior.\n",
      "  _warn_prf(average, modifier, msg_start, len(result))\n"
     ]
    }
   ],
   "source": [
    "from sklearn.metrics import classification_report, confusion_matrix, accuracy_score\n",
    "print(classification_report(y_test, predictions))\n",
    "print(confusion_matrix(y_test, predictions))\n",
    "print(accuracy_score(y_test, predictions))"
   ]
  },
  {
   "cell_type": "markdown",
   "metadata": {},
   "source": [
    "# Save the Model"
   ]
  },
  {
   "cell_type": "code",
   "execution_count": 26,
   "metadata": {},
   "outputs": [
    {
     "ename": "NameError",
     "evalue": "name 'KNeighborsClassifier' is not defined",
     "output_type": "error",
     "traceback": [
      "\u001b[0;31m---------------------------------------------------------------------------\u001b[0m",
      "\u001b[0;31mNameError\u001b[0m                                 Traceback (most recent call last)",
      "\u001b[0;32m<ipython-input-26-7b27afc2e143>\u001b[0m in \u001b[0;36m<module>\u001b[0;34m\u001b[0m\n\u001b[1;32m      6\u001b[0m \u001b[0;32mimport\u001b[0m \u001b[0mjoblib\u001b[0m\u001b[0;34m\u001b[0m\u001b[0;34m\u001b[0m\u001b[0m\n\u001b[1;32m      7\u001b[0m \u001b[0mfilename\u001b[0m \u001b[0;34m=\u001b[0m \u001b[0;34m'KNNtim.sav'\u001b[0m\u001b[0;34m\u001b[0m\u001b[0;34m\u001b[0m\u001b[0m\n\u001b[0;32m----> 8\u001b[0;31m \u001b[0myour_model\u001b[0m\u001b[0;34m=\u001b[0m\u001b[0mKNeighborsClassifier\u001b[0m\u001b[0;34m(\u001b[0m\u001b[0mn_neighbors\u001b[0m\u001b[0;34m=\u001b[0m\u001b[0;36m17\u001b[0m\u001b[0;34m,\u001b[0m \u001b[0mweights\u001b[0m\u001b[0;34m=\u001b[0m\u001b[0;34m\"distance\"\u001b[0m\u001b[0;34m)\u001b[0m\u001b[0;34m\u001b[0m\u001b[0;34m\u001b[0m\u001b[0m\n\u001b[0m\u001b[1;32m      9\u001b[0m \u001b[0mjoblib\u001b[0m\u001b[0;34m.\u001b[0m\u001b[0mdump\u001b[0m\u001b[0;34m(\u001b[0m\u001b[0myour_model\u001b[0m\u001b[0;34m,\u001b[0m \u001b[0mfilename\u001b[0m\u001b[0;34m)\u001b[0m\u001b[0;34m\u001b[0m\u001b[0;34m\u001b[0m\u001b[0m\n",
      "\u001b[0;31mNameError\u001b[0m: name 'KNeighborsClassifier' is not defined"
     ]
    }
   ],
   "source": [
    "# save your model by updating \"your_name\" with your name\n",
    "# and \"your_model\" with your model variable\n",
    "# be sure to turn this in to BCS\n",
    "# if joblib fails to import, try running the command to install in terminal/git-bash\n",
    "\n",
    "import joblib\n",
    "filename = 'KNNtim.sav'\n",
    "your_model=KNeighborsClassifier(n_neighbors=17, weights=\"distance\")\n",
    "joblib.dump(your_model, filename)"
   ]
  },
  {
   "cell_type": "code",
   "execution_count": null,
   "metadata": {},
   "outputs": [],
   "source": []
  }
 ],
 "metadata": {
  "kernel_info": {
   "name": "dev"
  },
  "kernelspec": {
   "display_name": "Python 3",
   "language": "python",
   "name": "python3"
  },
  "language_info": {
   "codemirror_mode": {
    "name": "ipython",
    "version": 3
   },
   "file_extension": ".py",
   "mimetype": "text/x-python",
   "name": "python",
   "nbconvert_exporter": "python",
   "pygments_lexer": "ipython3",
   "version": "3.6.10"
  },
  "nteract": {
   "version": "0.12.3"
  }
 },
 "nbformat": 4,
 "nbformat_minor": 2
}
